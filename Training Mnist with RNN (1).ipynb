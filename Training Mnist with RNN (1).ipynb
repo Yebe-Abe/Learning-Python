{
 "cells": [
  {
   "cell_type": "code",
   "execution_count": 1,
   "id": "e80dd1f2",
   "metadata": {},
   "outputs": [],
   "source": [
    "#guide code from: https://www.youtube.com/watch?v=BSpXCRTOLJA (sentdex) \n",
    "import tensorflow as tf\n",
    "from tensorflow.keras.models import Sequential\n",
    "from tensorflow.keras.layers import Dense, Dropout, LSTM\n",
    "from sklearn.preprocessing import MinMaxScaler"
   ]
  },
  {
   "cell_type": "code",
   "execution_count": 2,
   "id": "5734ad84",
   "metadata": {},
   "outputs": [],
   "source": [
    "#Mnist database\n",
    "MNIST = tf.keras.datasets.mnist\n",
    "\n",
    "#unpackingdata\n",
    "#sequences of 28 rows of 28 pixles per row\n",
    "#each row is part of the sequence \n",
    "(x_train, y_train), (x_test, y_test) = MNIST.load_data()\n"
   ]
  },
  {
   "cell_type": "code",
   "execution_count": 9,
   "id": "f154f348",
   "metadata": {},
   "outputs": [
    {
     "ename": "ValueError",
     "evalue": "cannot reshape array of size 60000 into shape (47040000,newaxis)",
     "output_type": "error",
     "traceback": [
      "\u001b[1;31m---------------------------------------------------------------------------\u001b[0m",
      "\u001b[1;31mValueError\u001b[0m                                Traceback (most recent call last)",
      "\u001b[1;32m~\\AppData\\Local\\Temp/ipykernel_2236/3041550854.py\u001b[0m in \u001b[0;36m<module>\u001b[1;34m\u001b[0m\n\u001b[0;32m      1\u001b[0m \u001b[0mscaler\u001b[0m \u001b[1;33m=\u001b[0m \u001b[0mMinMaxScaler\u001b[0m\u001b[1;33m(\u001b[0m\u001b[1;33m)\u001b[0m\u001b[1;33m\u001b[0m\u001b[1;33m\u001b[0m\u001b[0m\n\u001b[0;32m      2\u001b[0m \u001b[0mx_train_n\u001b[0m \u001b[1;33m=\u001b[0m \u001b[0mscaler\u001b[0m\u001b[1;33m.\u001b[0m\u001b[0mfit_transform\u001b[0m\u001b[1;33m(\u001b[0m\u001b[0mx_train\u001b[0m\u001b[1;33m.\u001b[0m\u001b[0mreshape\u001b[0m\u001b[1;33m(\u001b[0m\u001b[1;33m-\u001b[0m\u001b[1;36m1\u001b[0m\u001b[1;33m,\u001b[0m\u001b[1;36m1\u001b[0m\u001b[1;33m)\u001b[0m\u001b[1;33m)\u001b[0m\u001b[1;33m\u001b[0m\u001b[1;33m\u001b[0m\u001b[0m\n\u001b[1;32m----> 3\u001b[1;33m \u001b[0my_train_n\u001b[0m \u001b[1;33m=\u001b[0m \u001b[0mscaler\u001b[0m\u001b[1;33m.\u001b[0m\u001b[0mfit_transform\u001b[0m\u001b[1;33m(\u001b[0m\u001b[0my_train\u001b[0m\u001b[1;33m.\u001b[0m\u001b[0mreshape\u001b[0m\u001b[1;33m(\u001b[0m\u001b[1;36m47040000\u001b[0m\u001b[1;33m,\u001b[0m\u001b[1;33m-\u001b[0m\u001b[1;36m1\u001b[0m\u001b[1;33m)\u001b[0m\u001b[1;33m)\u001b[0m\u001b[1;33m\u001b[0m\u001b[1;33m\u001b[0m\u001b[0m\n\u001b[0m\u001b[0;32m      4\u001b[0m \u001b[0mx_test_n\u001b[0m \u001b[1;33m=\u001b[0m \u001b[0mscaler\u001b[0m\u001b[1;33m.\u001b[0m\u001b[0mfit_transform\u001b[0m\u001b[1;33m(\u001b[0m\u001b[0mx_test\u001b[0m\u001b[1;33m.\u001b[0m\u001b[0mreshape\u001b[0m\u001b[1;33m(\u001b[0m\u001b[1;33m-\u001b[0m\u001b[1;36m1\u001b[0m\u001b[1;33m,\u001b[0m\u001b[1;36m1\u001b[0m\u001b[1;33m)\u001b[0m\u001b[1;33m)\u001b[0m\u001b[1;33m\u001b[0m\u001b[1;33m\u001b[0m\u001b[0m\n\u001b[0;32m      5\u001b[0m \u001b[0my_test_n\u001b[0m \u001b[1;33m=\u001b[0m \u001b[0mscaler\u001b[0m\u001b[1;33m.\u001b[0m\u001b[0mfit_transform\u001b[0m\u001b[1;33m(\u001b[0m\u001b[0my_test\u001b[0m\u001b[1;33m.\u001b[0m\u001b[0mreshape\u001b[0m\u001b[1;33m(\u001b[0m\u001b[1;36m47040000\u001b[0m\u001b[1;33m,\u001b[0m\u001b[1;33m-\u001b[0m\u001b[1;36m1\u001b[0m\u001b[1;33m)\u001b[0m\u001b[1;33m)\u001b[0m\u001b[1;33m\u001b[0m\u001b[1;33m\u001b[0m\u001b[0m\n",
      "\u001b[1;31mValueError\u001b[0m: cannot reshape array of size 60000 into shape (47040000,newaxis)"
     ]
    }
   ],
   "source": [
    "#did not work\n",
    "#minmaxscaler needs a 2 dimensional shape, but image is 3d\n",
    "'''scaler = MinMaxScaler()\n",
    "x_train_n = scaler.fit_transform(x_train.reshape(-1,1))\n",
    "y_train_n = scaler.fit_transform(y_train.reshape(47040000,-1))\n",
    "x_test_n = scaler.fit_transform(x_test.reshape(-1,1))\n",
    "y_test_n = scaler.fit_transform(y_test.reshape(47040000,-1))\n",
    "'''\n"
   ]
  },
  {
   "cell_type": "code",
   "execution_count": 6,
   "id": "9c62aabe",
   "metadata": {},
   "outputs": [],
   "source": [
    "#manual normalization\n",
    "x_train_h = x_train/255\n",
    "x_test_h = x_test/255\n"
   ]
  },
  {
   "cell_type": "code",
   "execution_count": 7,
   "id": "f1999ce5",
   "metadata": {},
   "outputs": [
    {
     "data": {
      "text/plain": [
       "(60000,)"
      ]
     },
     "execution_count": 7,
     "metadata": {},
     "output_type": "execute_result"
    }
   ],
   "source": [
    "y_train.shape"
   ]
  },
  {
   "cell_type": "code",
   "execution_count": null,
   "id": "5556d9db",
   "metadata": {},
   "outputs": [
    {
     "name": "stderr",
     "output_type": "stream",
     "text": [
      "C:\\Users\\Family\\AppData\\Local\\Packages\\PythonSoftwareFoundation.Python.3.9_qbz5n2kfra8p0\\LocalCache\\local-packages\\Python39\\site-packages\\keras\\optimizers\\optimizer_v2\\adam.py:110: UserWarning: The `lr` argument is deprecated, use `learning_rate` instead.\n",
      "  super(Adam, self).__init__(name, **kwargs)\n"
     ]
    },
    {
     "name": "stdout",
     "output_type": "stream",
     "text": [
      "Epoch 1/3\n",
      "1301/1875 [===================>..........] - ETA: 1:00 - loss: 0.9208 - accuracy: 0.6897"
     ]
    }
   ],
   "source": [
    "#if going to reccurent layer --> return sequences\n",
    "    #if going to a dense layer --> don't return sequences (Dense won't understand)\n",
    "model = Sequential([\n",
    "    LSTM(128, input_shape=(28,28), activation = 'relu', return_sequences = True), \n",
    "    Dropout(0.2), \n",
    "    \n",
    "    LSTM(128, activation ='relu'),\n",
    "    Dropout(0.2),\n",
    "    \n",
    "    Dense(32, activation= 'relu'),\n",
    "    Dropout(0.2),\n",
    "    \n",
    "    Dense(10, activation = 'softmax')\n",
    "])\n",
    "\n",
    "#compile and optimizer\n",
    "\n",
    "opt = tf.keras.optimizers.Adam(lr = 0.001, decay=0.006)\n",
    "\n",
    "#another way you can measure loss = mean squared error (mse)\n",
    "\n",
    "model.compile(loss='sparse_categorical_crossentropy', optimizer = opt, metrics =['accuracy'])\n",
    "\n",
    "model.fit(x_train_h, y_train, epochs= 3, validation_data= (x_test_h, y_test) )\n"
   ]
  },
  {
   "cell_type": "code",
   "execution_count": null,
   "id": "f4642172",
   "metadata": {},
   "outputs": [],
   "source": [
    "#LSTM takes too much time and my computer does not have the power for that TT so did not complete training (code works though)"
   ]
  }
 ],
 "metadata": {
  "kernelspec": {
   "display_name": "Python 3 (ipykernel)",
   "language": "python",
   "name": "python3"
  },
  "language_info": {
   "codemirror_mode": {
    "name": "ipython",
    "version": 3
   },
   "file_extension": ".py",
   "mimetype": "text/x-python",
   "name": "python",
   "nbconvert_exporter": "python",
   "pygments_lexer": "ipython3",
   "version": "3.9.13"
  }
 },
 "nbformat": 4,
 "nbformat_minor": 5
}
