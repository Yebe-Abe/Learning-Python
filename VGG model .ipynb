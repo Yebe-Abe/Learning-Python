{
 "cells": [
  {
   "cell_type": "code",
   "execution_count": null,
   "id": "251a9fca",
   "metadata": {},
   "outputs": [],
   "source": [
    "#Task: simple neural network using\n",
    "#VGG (a convolutional neural network)\n",
    "#Sigmoid and relu activatoin function \n",
    "#Epoch 10 and epoch early stopping callback \n",
    "#Dataset: FashionMNIST"
   ]
  },
  {
   "cell_type": "code",
   "execution_count": 1,
   "id": "d037af82",
   "metadata": {},
   "outputs": [],
   "source": [
    "import numpy as np\n",
    "import matplotlib.pyplot as plt\n",
    "import tensorflow as tf"
   ]
  },
  {
   "cell_type": "code",
   "execution_count": 2,
   "id": "45783839",
   "metadata": {},
   "outputs": [],
   "source": [
    "from tensorflow.keras.models import Sequential\n",
    "from keras.layers import Dense, Conv2D, MaxPool2D , Flatten\n",
    "from keras.callbacks import EarlyStopping\n",
    "from keras.preprocessing.image import ImageDataGenerator\n",
    "from keras.applications.vgg16 import *"
   ]
  },
  {
   "cell_type": "code",
   "execution_count": 3,
   "id": "83d77047",
   "metadata": {},
   "outputs": [],
   "source": [
    "#loading dataset (tf.keras.datasets.fashion_mnist.load_data())\n",
    "\n",
    "#Mnist database\n",
    "FashionMNIST = tf.keras.datasets.fashion_mnist\n",
    "\n",
    "#unpackingdata\n",
    "#Dataset of 28x28 images with 10 classifications\n",
    "#70000 images: 60000 for training, 10000 for testing \n",
    "\n",
    "(x_train, y_train), (x_test, y_test) = FashionMNIST.load_data()"
   ]
  },
  {
   "cell_type": "code",
   "execution_count": 33,
   "id": "4423668d",
   "metadata": {},
   "outputs": [],
   "source": [
    "'''\n",
    "#(28,28,1) --> (28,28,3) \n",
    "x_train = np.expand_dims(x_train, axis=-1)\n",
    "x_train_t = np.repeat(x_train, 3, axis=-1)\n",
    "x_test_t = np.expand_dims(x_test, axis=-1)\n",
    "x_test_t = np.repeat(x_test, 3, axis=-1)\n",
    "\n",
    "#normalization of data\n",
    "x_train_t = x_train_t/255\n",
    "x_test_t = x_test_t/255\n",
    "'''"
   ]
  },
  {
   "cell_type": "code",
   "execution_count": 6,
   "id": "ecbee292",
   "metadata": {},
   "outputs": [
    {
     "data": {
      "text/plain": [
       "(60000, 28, 28, 3)"
      ]
     },
     "execution_count": 6,
     "metadata": {},
     "output_type": "execute_result"
    }
   ],
   "source": [
    "x_train_n.shape"
   ]
  },
  {
   "cell_type": "code",
   "execution_count": 16,
   "id": "e20e9c70",
   "metadata": {},
   "outputs": [
    {
     "data": {
      "text/plain": [
       "(60000, 28, 28)"
      ]
     },
     "execution_count": 16,
     "metadata": {},
     "output_type": "execute_result"
    }
   ],
   "source": [
    "x_train"
   ]
  },
  {
   "cell_type": "code",
   "execution_count": 14,
   "id": "57569e7c",
   "metadata": {},
   "outputs": [
    {
     "data": {
      "image/png": "[encoded data removed]",
      "text/plain": [
       "<Figure size 432x288 with 1 Axes>"
      ]
     },
     "metadata": {
      "needs_background": "light"
     },
     "output_type": "display_data"
    }
   ],
   "source": [
    "first_array=x_train_n[0]\n",
    "plt.imshow(first_array)\n",
    "plt.show()"
   ]
  },
  {
   "cell_type": "code",
   "execution_count": 17,
   "id": "25a5a85f",
   "metadata": {},
   "outputs": [
    {
     "data": {
      "image/png": "[encoded data removed]",
      "text/plain": [
       "<Figure size 432x288 with 1 Axes>"
      ]
     },
     "metadata": {
      "needs_background": "light"
     },
     "output_type": "display_data"
    }
   ],
   "source": [
    "second_array=x_train[0]\n",
    "plt.imshow(second_array)\n",
    "plt.show()"
   ]
  },
  {
   "cell_type": "code",
   "execution_count": 20,
   "id": "044450e9",
   "metadata": {},
   "outputs": [
    {
     "data": {
      "image/png": "[encoded data removed]",
      "text/plain": [
       "<Figure size 432x288 with 1 Axes>"
      ]
     },
     "metadata": {
      "needs_background": "light"
     },
     "output_type": "display_data"
    }
   ],
   "source": [
    "x_t = x_train/255.0\n",
    "third_array=x_t[0]\n",
    "plt.imshow(third_array)\n",
    "plt.show()"
   ]
  },
  {
   "cell_type": "code",
   "execution_count": 5,
   "id": "61004513",
   "metadata": {},
   "outputs": [],
   "source": [
    "x_train_f = x_train/255.0\n",
    "x_test_f = x_train/255.0"
   ]
  },
  {
   "cell_type": "code",
   "execution_count": 38,
   "id": "3028ea0c",
   "metadata": {},
   "outputs": [
    {
     "data": {
      "text/plain": [
       "(60000, 28, 28)"
      ]
     },
     "execution_count": 38,
     "metadata": {},
     "output_type": "execute_result"
    }
   ],
   "source": [
    "x_train_f.shape"
   ]
  },
  {
   "cell_type": "code",
   "execution_count": 7,
   "id": "2a6b22e0",
   "metadata": {},
   "outputs": [],
   "source": [
    "#takes up too much memory to change shape of 60000 items from (28,28) to (224,224)\n",
    "'''\n",
    "x_test_f =np.empty((10000,224,224,3))\n",
    "import cv2\n",
    "for a in range(10000):\n",
    "    img = x_test_n[a]\n",
    "    x_test_f[a] = cv2.resize(img, dsize=(224, 224))\n",
    "    \n",
    "x_train_f =np.empty((10000,224,224,3))\n",
    "for a in range(10000):\n",
    "    img = x_train_n[a]\n",
    "    x_train_f[a] = cv2.resize(img, dsize=(224, 224))\n",
    "'''"
   ]
  },
  {
   "cell_type": "code",
   "execution_count": null,
   "id": "3d8b77d0",
   "metadata": {},
   "outputs": [],
   "source": [
    "#did not work \n",
    "'''original_dim = (28, 28, 3)\n",
    "target_size = (224,224)\n",
    "input = tf.keras.layers.Input(original_dim)\n",
    "x = tf.keras.layers.Lambda(lambda image: tf.image.resize(image, target_size))(input)'''"
   ]
  },
  {
   "cell_type": "code",
   "execution_count": null,
   "id": "665ab5cd",
   "metadata": {},
   "outputs": [],
   "source": [
    "#changed plans --> did not change shape of image and instead changed model structure\n",
    "#x_train_n = (224,224,3) attemps\n",
    "#x_train_f = data currently using to train data with a (28,28,1) shape"
   ]
  },
  {
   "cell_type": "code",
   "execution_count": 39,
   "id": "e1637921",
   "metadata": {},
   "outputs": [],
   "source": [
    "#implimenting VGG:\n",
    "'''\n",
    "16 layers of VGG16\n",
    "1.Convolution using 64 filters\n",
    "2.Convolution using 64 filters + Max pooling\n",
    "3.Convolution using 128 filters\n",
    "4. Convolution using 128 filters + Max pooling\n",
    "5. Convolution using 256 filters\n",
    "6. Convolution using 256 filters\n",
    "7. Convolution using 256 filters + Max pooling\n",
    "8. Convolution using 512 filters\n",
    "9. Convolution using 512 filters\n",
    "10. Convolution using 512 filters+Max pooling\n",
    "11. Convolution using 512 filters\n",
    "12. Convolution using 512 filters\n",
    "13. Convolution using 512 filters+Max pooling\n",
    "14. Fully connected with 4096 nodes\n",
    "15. Fully connected with 4096 nodes\n",
    "16. Output layer with Softmax activation with 1000 nodes.\n",
    "'''\n",
    "#understanding VGG: \n",
    "#https://medium.com/nerd-for-tech/vgg-16-easiest-explanation-12453b599526\n",
    "#https://iq.opengenus.org/vgg16/\n",
    "#multiple 3×3 kernel-sized filters one after another\n",
    "#Cov1 layer is of a fixed size of 224 x 224 RGB image\n",
    "#filters used with a very small receptive field: 3×3 \n",
    "#padding is \"same\"\n",
    "#guide for code: https://towardsdatascience.com/step-by-step-vgg16-implementation-in-keras-for-beginners-a833c686ae6c\n",
    "\n",
    "model = Sequential()\n",
    "\n",
    "#28,28,1 input shape\n",
    "model.add(Conv2D(input_shape= (28,28,1),filters=64,kernel_size=(3,3),padding=\"same\", activation=\"relu\"))\n",
    "model.add(Conv2D(filters=64,kernel_size=(3,3),padding=\"same\", activation=\"relu\"))\n",
    "model.add(MaxPool2D(pool_size=(2,2),strides=(2,2)))\n",
    "model.add(Conv2D(filters=64, kernel_size=(3,3), padding=\"same\", activation=\"relu\"))\n",
    "model.add(Conv2D(filters=64, kernel_size=(3,3), padding=\"same\", activation=\"relu\"))\n",
    "model.add(MaxPool2D(pool_size=(2,2),strides=(2,2)))\n",
    "model.add(Conv2D(filters=64, kernel_size=(3,3), padding=\"same\", activation=\"relu\"))\n",
    "model.add(Conv2D(filters=64, kernel_size=(3,3), padding=\"same\", activation=\"relu\"))\n",
    "model.add(Conv2D(filters=64, kernel_size=(3,3), padding=\"same\", activation=\"relu\"))\n",
    "model.add(MaxPool2D(pool_size=(2,2),strides=(2,2)))\n",
    "model.add(Conv2D(filters=64, kernel_size=(3,3), padding=\"same\", activation=\"relu\"))\n",
    "model.add(Conv2D(filters=64, kernel_size=(3,3), padding=\"same\", activation=\"relu\"))\n",
    "model.add(Conv2D(filters=64, kernel_size=(3,3), padding=\"same\", activation=\"relu\"))\n",
    "model.add(MaxPool2D(pool_size=(2,2),strides=(2,2)))\n",
    "model.add(Conv2D(filters=64, kernel_size=(3,3), padding=\"same\", activation=\"relu\"))\n",
    "model.add(Conv2D(filters=64, kernel_size=(3,3), padding=\"same\", activation=\"relu\"))\n",
    "model.add(Conv2D(filters=64, kernel_size=(3,3), padding=\"same\", activation=\"relu\"))\n",
    "\n",
    "#padding same to prevent negative dimension\n",
    "model.add(MaxPool2D(pool_size=(2,2),strides=(2,2), padding=\"same\" ))\n",
    "\n",
    "#3d to 2d\n",
    "model.add(Flatten())\n",
    "\n",
    "model.add(Dense(units=96,activation=\"relu\"))\n",
    "model.add(Dense(units=96,activation=\"relu\"))\n",
    "\n",
    "#10 units for 10 classifications \n",
    "model.add(Dense(units=10, activation=\"softmax\"))\n"
   ]
  },
  {
   "cell_type": "code",
   "execution_count": 41,
   "id": "b638fe7a",
   "metadata": {},
   "outputs": [
    {
     "name": "stdout",
     "output_type": "stream",
     "text": [
      "1875/1875 [==============================] - ETA: 0s - loss: 0.6900 - accuracy: 0.7297"
     ]
    },
    {
     "ename": "ValueError",
     "evalue": "Data cardinality is ambiguous:\n  x sizes: 60000\n  y sizes: 10000\nMake sure all arrays contain the same number of samples.",
     "output_type": "error",
     "traceback": [
      "\u001b[1;31m---------------------------------------------------------------------------\u001b[0m",
      "\u001b[1;31mValueError\u001b[0m                                Traceback (most recent call last)",
      "\u001b[1;32m~\\AppData\\Local\\Temp/ipykernel_21316/1612641856.py\u001b[0m in \u001b[0;36m<module>\u001b[1;34m\u001b[0m\n\u001b[0;32m      7\u001b[0m \u001b[0mearly\u001b[0m \u001b[1;33m=\u001b[0m \u001b[0mEarlyStopping\u001b[0m\u001b[1;33m(\u001b[0m\u001b[0mmonitor\u001b[0m\u001b[1;33m=\u001b[0m\u001b[1;34m'val_acc'\u001b[0m\u001b[1;33m,\u001b[0m \u001b[0mmin_delta\u001b[0m\u001b[1;33m=\u001b[0m\u001b[1;36m0\u001b[0m\u001b[1;33m,\u001b[0m \u001b[0mpatience\u001b[0m\u001b[1;33m=\u001b[0m\u001b[1;36m3\u001b[0m\u001b[1;33m,\u001b[0m \u001b[0mverbose\u001b[0m\u001b[1;33m=\u001b[0m\u001b[1;36m1\u001b[0m\u001b[1;33m,\u001b[0m \u001b[0mmode\u001b[0m\u001b[1;33m=\u001b[0m\u001b[1;34m'auto'\u001b[0m\u001b[1;33m)\u001b[0m\u001b[1;33m\u001b[0m\u001b[1;33m\u001b[0m\u001b[0m\n\u001b[0;32m      8\u001b[0m \u001b[1;33m\u001b[0m\u001b[0m\n\u001b[1;32m----> 9\u001b[1;33m \u001b[0mmodel\u001b[0m\u001b[1;33m.\u001b[0m\u001b[0mfit\u001b[0m\u001b[1;33m(\u001b[0m\u001b[0mx_train_f\u001b[0m\u001b[1;33m,\u001b[0m \u001b[0my_train\u001b[0m\u001b[1;33m,\u001b[0m \u001b[0mvalidation_data\u001b[0m\u001b[1;33m=\u001b[0m \u001b[1;33m(\u001b[0m\u001b[0mx_test_f\u001b[0m\u001b[1;33m,\u001b[0m \u001b[0my_test\u001b[0m\u001b[1;33m)\u001b[0m\u001b[1;33m,\u001b[0m \u001b[0mcallbacks\u001b[0m \u001b[1;33m=\u001b[0m \u001b[1;33m[\u001b[0m\u001b[0mearly\u001b[0m\u001b[1;33m]\u001b[0m \u001b[1;33m)\u001b[0m\u001b[1;33m\u001b[0m\u001b[1;33m\u001b[0m\u001b[0m\n\u001b[0m",
      "\u001b[1;32m~\\AppData\\Local\\Packages\\PythonSoftwareFoundation.Python.3.9_qbz5n2kfra8p0\\LocalCache\\local-packages\\Python39\\site-packages\\keras\\utils\\traceback_utils.py\u001b[0m in \u001b[0;36merror_handler\u001b[1;34m(*args, **kwargs)\u001b[0m\n\u001b[0;32m     65\u001b[0m     \u001b[1;32mexcept\u001b[0m \u001b[0mException\u001b[0m \u001b[1;32mas\u001b[0m \u001b[0me\u001b[0m\u001b[1;33m:\u001b[0m  \u001b[1;31m# pylint: disable=broad-except\u001b[0m\u001b[1;33m\u001b[0m\u001b[1;33m\u001b[0m\u001b[0m\n\u001b[0;32m     66\u001b[0m       \u001b[0mfiltered_tb\u001b[0m \u001b[1;33m=\u001b[0m \u001b[0m_process_traceback_frames\u001b[0m\u001b[1;33m(\u001b[0m\u001b[0me\u001b[0m\u001b[1;33m.\u001b[0m\u001b[0m__traceback__\u001b[0m\u001b[1;33m)\u001b[0m\u001b[1;33m\u001b[0m\u001b[1;33m\u001b[0m\u001b[0m\n\u001b[1;32m---> 67\u001b[1;33m       \u001b[1;32mraise\u001b[0m \u001b[0me\u001b[0m\u001b[1;33m.\u001b[0m\u001b[0mwith_traceback\u001b[0m\u001b[1;33m(\u001b[0m\u001b[0mfiltered_tb\u001b[0m\u001b[1;33m)\u001b[0m \u001b[1;32mfrom\u001b[0m \u001b[1;32mNone\u001b[0m\u001b[1;33m\u001b[0m\u001b[1;33m\u001b[0m\u001b[0m\n\u001b[0m\u001b[0;32m     68\u001b[0m     \u001b[1;32mfinally\u001b[0m\u001b[1;33m:\u001b[0m\u001b[1;33m\u001b[0m\u001b[1;33m\u001b[0m\u001b[0m\n\u001b[0;32m     69\u001b[0m       \u001b[1;32mdel\u001b[0m \u001b[0mfiltered_tb\u001b[0m\u001b[1;33m\u001b[0m\u001b[1;33m\u001b[0m\u001b[0m\n",
      "\u001b[1;32m~\\AppData\\Local\\Packages\\PythonSoftwareFoundation.Python.3.9_qbz5n2kfra8p0\\LocalCache\\local-packages\\Python39\\site-packages\\keras\\engine\\data_adapter.py\u001b[0m in \u001b[0;36m_check_data_cardinality\u001b[1;34m(data)\u001b[0m\n\u001b[0;32m   1653\u001b[0m                            for i in tf.nest.flatten(single_data)))\n\u001b[0;32m   1654\u001b[0m     \u001b[0mmsg\u001b[0m \u001b[1;33m+=\u001b[0m \u001b[1;34m\"Make sure all arrays contain the same number of samples.\"\u001b[0m\u001b[1;33m\u001b[0m\u001b[1;33m\u001b[0m\u001b[0m\n\u001b[1;32m-> 1655\u001b[1;33m     \u001b[1;32mraise\u001b[0m \u001b[0mValueError\u001b[0m\u001b[1;33m(\u001b[0m\u001b[0mmsg\u001b[0m\u001b[1;33m)\u001b[0m\u001b[1;33m\u001b[0m\u001b[1;33m\u001b[0m\u001b[0m\n\u001b[0m\u001b[0;32m   1656\u001b[0m \u001b[1;33m\u001b[0m\u001b[0m\n\u001b[0;32m   1657\u001b[0m \u001b[1;33m\u001b[0m\u001b[0m\n",
      "\u001b[1;31mValueError\u001b[0m: Data cardinality is ambiguous:\n  x sizes: 60000\n  y sizes: 10000\nMake sure all arrays contain the same number of samples."
     ]
    }
   ],
   "source": [
    "#compile and optimizer\n",
    "\n",
    "opt = tf.keras.optimizers.Adam(lr = 0.001, decay=0.006)\n",
    "\n",
    "model.compile(loss='sparse_categorical_crossentropy', optimizer = opt, metrics =['accuracy'])\n",
    "\n",
    "early = EarlyStopping(monitor='val_acc', min_delta=0, patience=3, verbose=1, mode='auto')\n",
    "\n",
    "model.fit(x_train_f, y_train, validation_data= (x_test_f, y_test), callbacks = [early] )"
   ]
  },
  {
   "cell_type": "code",
   "execution_count": null,
   "id": "5d43a3cd",
   "metadata": {},
   "outputs": [],
   "source": [
    "#filters from original VGG, too big so changed all to 64 \n",
    "\n",
    "#using only relu --> accuracy: 0.7125 , loss: 0.7126\n",
    "#second try using relu --> acurracy: 0.7297, loss: 0.6900\n",
    "#took 5-8mins to complete\n",
    "\n",
    "#sigmoid --> accuracy stays around 0.1200 give or take\n",
    "\n",
    "\n"
   ]
  }
 ],
 "metadata": {
  "kernelspec": {
   "display_name": "Python 3 (ipykernel)",
   "language": "python",
   "name": "python3"
  },
  "language_info": {
   "codemirror_mode": {
    "name": "ipython",
    "version": 3
   },
   "file_extension": ".py",
   "mimetype": "text/x-python",
   "name": "python",
   "nbconvert_exporter": "python",
   "pygments_lexer": "ipython3",
   "version": "3.9.13"
  }
 },
 "nbformat": 4,
 "nbformat_minor": 5
}
