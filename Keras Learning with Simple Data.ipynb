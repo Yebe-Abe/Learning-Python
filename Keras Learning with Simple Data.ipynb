{
 "cells": [
  {
   "cell_type": "code",
   "execution_count": 15,
   "id": "667385a4",
   "metadata": {},
   "outputs": [],
   "source": [
    "#guided code from: https://www.youtube.com/watch?v=qFJeN9V1ZsI (DeepLizard & CodeAcademy)\n",
    "import numpy as np\n",
    "from random import randint\n",
    "from sklearn.utils import shuffle\n",
    "from sklearn.preprocessing import MinMaxScaler"
   ]
  },
  {
   "cell_type": "code",
   "execution_count": 16,
   "id": "20adcc45",
   "metadata": {},
   "outputs": [],
   "source": [
    "#containts if they did/did not experience side effects\n",
    "train_labels = []\n",
    "#contains the ages of the participants \n",
    "train_samples = []"
   ]
  },
  {
   "cell_type": "markdown",
   "id": "5097b3d8",
   "metadata": {},
   "source": [
    "###### Creating the Data ( 2100 participants : half > 65, half < 65 )"
   ]
  },
  {
   "cell_type": "code",
   "execution_count": 17,
   "id": "f43792a7",
   "metadata": {},
   "outputs": [],
   "source": [
    "for i in range(50):\n",
    "    # The ~5% of younger individuals who experienced side effects\n",
    "    random_younger = randint(13,64)\n",
    "    train_samples.append(random_younger)\n",
    "    train_labels.append(1)\n",
    "    \n",
    "    #The ~5% of oldre individuals who did not experience side effects\n",
    "    random_older = randint(65,100)\n",
    "    train_samples.append(random_older)\n",
    "    train_labels.append(0)\n",
    "    \n",
    "for i in range(1000):\n",
    "    #The ~95% of younger individuals who did not experience side effects\n",
    "    random_younger = randint(13,64)\n",
    "    train_samples.append(random_younger)\n",
    "    train_labels.append(0)\n",
    "    \n",
    "    #The ~95% of oldre individuals who did not experience side effects\n",
    "    random_older = randint(65,100)\n",
    "    train_samples.append(random_older)\n",
    "    train_labels.append(1)"
   ]
  },
  {
   "cell_type": "code",
   "execution_count": 4,
   "id": "8351a13b",
   "metadata": {},
   "outputs": [],
   "source": [
    "#"
   ]
  },
  {
   "cell_type": "code",
   "execution_count": 18,
   "id": "a89db434",
   "metadata": {},
   "outputs": [],
   "source": [
    "train_labels = np.array(train_labels)\n",
    "train_samples = np.array(train_samples)\n",
    "train_labels, train_samples = shuffle(train_labels, train_samples)"
   ]
  },
  {
   "cell_type": "code",
   "execution_count": 19,
   "id": "ea248c71",
   "metadata": {},
   "outputs": [],
   "source": [
    "scaler = MinMaxScaler(feature_range = (0,1))\n",
    "scaled_train_sample = scaler.fit_transform(train_samples.reshape(-1,1))"
   ]
  },
  {
   "cell_type": "markdown",
   "id": "91dd7333",
   "metadata": {},
   "source": [
    "#### Using data to Train Neuro network (Simple tk.keras Sequential Model) "
   ]
  },
  {
   "cell_type": "code",
   "execution_count": 20,
   "id": "c957bb6a",
   "metadata": {},
   "outputs": [],
   "source": [
    "import tensorflow as tf\n",
    "from tensorflow import keras\n",
    "from tensorflow.keras.models import Sequential \n",
    "from tensorflow.keras.layers import Activation, Dense\n",
    "from tensorflow.keras.optimizers import Adam\n",
    "from tensorflow.keras.metrics import categorical_crossentropy "
   ]
  },
  {
   "cell_type": "code",
   "execution_count": 21,
   "id": "baad2e66",
   "metadata": {},
   "outputs": [],
   "source": [
    " model = Sequential([\n",
    "     Dense(units= 16, input_shape=(1,), activation = 'relu'),\n",
    "     Dense(units = 32, activation ='relu'),\n",
    "    #2 units: participant did/did not experience side effects\n",
    "     Dense(units = 2, activation = 'softmax')\n",
    " ])"
   ]
  },
  {
   "cell_type": "code",
   "execution_count": 22,
   "id": "3dc8062f",
   "metadata": {},
   "outputs": [
    {
     "name": "stdout",
     "output_type": "stream",
     "text": [
      "Model: \"sequential_1\"\n",
      "_________________________________________________________________\n",
      " Layer (type)                Output Shape              Param #   \n",
      "=================================================================\n",
      " dense_3 (Dense)             (None, 16)                32        \n",
      "                                                                 \n",
      " dense_4 (Dense)             (None, 32)                544       \n",
      "                                                                 \n",
      " dense_5 (Dense)             (None, 2)                 66        \n",
      "                                                                 \n",
      "=================================================================\n",
      "Total params: 642\n",
      "Trainable params: 642\n",
      "Non-trainable params: 0\n",
      "_________________________________________________________________\n"
     ]
    }
   ],
   "source": [
    "model.summary()"
   ]
  },
  {
   "cell_type": "code",
   "execution_count": 23,
   "id": "12e829c6",
   "metadata": {},
   "outputs": [],
   "source": [
    "#prepares the model for training\n",
    "#Adam --> common optimizing rate\n",
    "#accuracy --> common way to gauge network performance \n",
    "model.compile(optimizer=Adam(learning_rate=0.0001), loss='sparse_categorical_crossentropy', metrics=['accuracy'])"
   ]
  },
  {
   "cell_type": "code",
   "execution_count": 24,
   "id": "784691a7",
   "metadata": {},
   "outputs": [
    {
     "name": "stdout",
     "output_type": "stream",
     "text": [
      "Epoch 1/30\n",
      "189/189 - 0s - loss: 0.6602 - accuracy: 0.5503 - val_loss: 0.6581 - val_accuracy: 0.5619 - 461ms/epoch - 2ms/step\n",
      "Epoch 2/30\n",
      "189/189 - 0s - loss: 0.6337 - accuracy: 0.6116 - val_loss: 0.6363 - val_accuracy: 0.6238 - 140ms/epoch - 739us/step\n",
      "Epoch 3/30\n",
      "189/189 - 0s - loss: 0.6066 - accuracy: 0.6735 - val_loss: 0.6115 - val_accuracy: 0.6667 - 141ms/epoch - 746us/step\n",
      "Epoch 4/30\n",
      "189/189 - 0s - loss: 0.5789 - accuracy: 0.7106 - val_loss: 0.5855 - val_accuracy: 0.6905 - 144ms/epoch - 764us/step\n",
      "Epoch 5/30\n",
      "189/189 - 0s - loss: 0.5508 - accuracy: 0.7545 - val_loss: 0.5591 - val_accuracy: 0.7143 - 181ms/epoch - 958us/step\n",
      "Epoch 6/30\n",
      "189/189 - 0s - loss: 0.5225 - accuracy: 0.7804 - val_loss: 0.5305 - val_accuracy: 0.7619 - 155ms/epoch - 822us/step\n",
      "Epoch 7/30\n",
      "189/189 - 0s - loss: 0.4937 - accuracy: 0.8085 - val_loss: 0.5022 - val_accuracy: 0.8000 - 146ms/epoch - 774us/step\n",
      "Epoch 8/30\n",
      "189/189 - 0s - loss: 0.4654 - accuracy: 0.8360 - val_loss: 0.4743 - val_accuracy: 0.8143 - 162ms/epoch - 856us/step\n",
      "Epoch 9/30\n",
      "189/189 - 0s - loss: 0.4383 - accuracy: 0.8529 - val_loss: 0.4477 - val_accuracy: 0.8381 - 175ms/epoch - 928us/step\n",
      "Epoch 10/30\n",
      "189/189 - 0s - loss: 0.4135 - accuracy: 0.8735 - val_loss: 0.4244 - val_accuracy: 0.8571 - 184ms/epoch - 971us/step\n",
      "Epoch 11/30\n",
      "189/189 - 0s - loss: 0.3909 - accuracy: 0.8788 - val_loss: 0.4009 - val_accuracy: 0.8714 - 156ms/epoch - 828us/step\n",
      "Epoch 12/30\n",
      "189/189 - 0s - loss: 0.3707 - accuracy: 0.8989 - val_loss: 0.3823 - val_accuracy: 0.8762 - 152ms/epoch - 806us/step\n",
      "Epoch 13/30\n",
      "189/189 - 0s - loss: 0.3531 - accuracy: 0.9053 - val_loss: 0.3650 - val_accuracy: 0.8810 - 159ms/epoch - 840us/step\n",
      "Epoch 14/30\n",
      "189/189 - 0s - loss: 0.3378 - accuracy: 0.9127 - val_loss: 0.3512 - val_accuracy: 0.8810 - 161ms/epoch - 853us/step\n",
      "Epoch 15/30\n",
      "189/189 - 0s - loss: 0.3248 - accuracy: 0.9153 - val_loss: 0.3382 - val_accuracy: 0.8857 - 151ms/epoch - 797us/step\n",
      "Epoch 16/30\n",
      "189/189 - 0s - loss: 0.3135 - accuracy: 0.9238 - val_loss: 0.3288 - val_accuracy: 0.8857 - 172ms/epoch - 908us/step\n",
      "Epoch 17/30\n",
      "189/189 - 0s - loss: 0.3045 - accuracy: 0.9249 - val_loss: 0.3200 - val_accuracy: 0.8857 - 178ms/epoch - 942us/step\n",
      "Epoch 18/30\n",
      "189/189 - 0s - loss: 0.2961 - accuracy: 0.9265 - val_loss: 0.3110 - val_accuracy: 0.9000 - 175ms/epoch - 925us/step\n",
      "Epoch 19/30\n",
      "189/189 - 0s - loss: 0.2892 - accuracy: 0.9296 - val_loss: 0.3050 - val_accuracy: 0.9000 - 168ms/epoch - 886us/step\n",
      "Epoch 20/30\n",
      "189/189 - 0s - loss: 0.2835 - accuracy: 0.9312 - val_loss: 0.2995 - val_accuracy: 0.9143 - 174ms/epoch - 919us/step\n",
      "Epoch 21/30\n",
      "189/189 - 0s - loss: 0.2788 - accuracy: 0.9344 - val_loss: 0.2948 - val_accuracy: 0.9143 - 170ms/epoch - 898us/step\n",
      "Epoch 22/30\n",
      "189/189 - 0s - loss: 0.2746 - accuracy: 0.9392 - val_loss: 0.2915 - val_accuracy: 0.9143 - 169ms/epoch - 895us/step\n",
      "Epoch 23/30\n",
      "189/189 - 0s - loss: 0.2712 - accuracy: 0.9402 - val_loss: 0.2889 - val_accuracy: 0.9143 - 171ms/epoch - 904us/step\n",
      "Epoch 24/30\n",
      "189/189 - 0s - loss: 0.2681 - accuracy: 0.9386 - val_loss: 0.2858 - val_accuracy: 0.9143 - 166ms/epoch - 878us/step\n",
      "Epoch 25/30\n",
      "189/189 - 0s - loss: 0.2657 - accuracy: 0.9413 - val_loss: 0.2839 - val_accuracy: 0.9143 - 169ms/epoch - 893us/step\n",
      "Epoch 26/30\n",
      "189/189 - 0s - loss: 0.2634 - accuracy: 0.9423 - val_loss: 0.2820 - val_accuracy: 0.9143 - 158ms/epoch - 837us/step\n",
      "Epoch 27/30\n",
      "189/189 - 0s - loss: 0.2614 - accuracy: 0.9402 - val_loss: 0.2800 - val_accuracy: 0.9143 - 157ms/epoch - 832us/step\n",
      "Epoch 28/30\n",
      "189/189 - 0s - loss: 0.2597 - accuracy: 0.9418 - val_loss: 0.2788 - val_accuracy: 0.9143 - 163ms/epoch - 864us/step\n",
      "Epoch 29/30\n",
      "189/189 - 0s - loss: 0.2582 - accuracy: 0.9423 - val_loss: 0.2780 - val_accuracy: 0.9143 - 173ms/epoch - 917us/step\n",
      "Epoch 30/30\n",
      "189/189 - 0s - loss: 0.2568 - accuracy: 0.9407 - val_loss: 0.2761 - val_accuracy: 0.9238 - 166ms/epoch - 876us/step\n"
     ]
    },
    {
     "data": {
      "text/plain": [
       "<keras.callbacks.History at 0x2592e49b6a0>"
      ]
     },
     "execution_count": 24,
     "metadata": {},
     "output_type": "execute_result"
    }
   ],
   "source": [
    "model.fit(x=scaled_train_sample, y=train_labels, validation_split=0.1, batch_size=10, epochs=30, shuffle = True, verbose=2)"
   ]
  },
  {
   "cell_type": "code",
   "execution_count": null,
   "id": "61367aae",
   "metadata": {},
   "outputs": [],
   "source": []
  }
 ],
 "metadata": {
  "kernelspec": {
   "display_name": "Python 3 (ipykernel)",
   "language": "python",
   "name": "python3"
  },
  "language_info": {
   "codemirror_mode": {
    "name": "ipython",
    "version": 3
   },
   "file_extension": ".py",
   "mimetype": "text/x-python",
   "name": "python",
   "nbconvert_exporter": "python",
   "pygments_lexer": "ipython3",
   "version": "3.9.13"
  }
 },
 "nbformat": 4,
 "nbformat_minor": 5
}
